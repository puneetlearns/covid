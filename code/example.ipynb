{
 "cells": [
  {
   "cell_type": "code",
   "execution_count": 2,
   "id": "07517914-ee30-4eb7-b89e-1ef702e43964",
   "metadata": {},
   "outputs": [
    {
     "name": "stdout",
     "output_type": "stream",
     "text": [
      "  % Total    % Received % Xferd  Average Speed   Time    Time     Time  Current\n",
      "                                 Dload  Upload   Total   Spent    Left  Speed\n",
      "100  786M  100  786M    0     0  2528k      0  0:05:18  0:05:18 --:--:-- 2153k86M    2 22.0M    0     0  1708k      0  0:07:51  0:00:13  0:07:38 2379k6M    7 55.5M    0     0  2168k      0  0:06:11  0:00:26  0:05:45 2685k786M   12 97.3M    0     0  2253k      0  0:05:57  0:00:44  0:05:13 2228k86M   13  110M    0     0  2289k      0  0:05:51  0:00:49  0:05:02 2609k86M   17  140M    0     0  2358k      0  0:05:41  0:01:01  0:04:40 2367kM   21  168M    0     0  2420k      0  0:05:32  0:01:11  0:04:21 2552k2426k      0  0:05:32  0:01:13  0:04:19 2670k6M   24  194M    0     0  2436k      0  0:05:30  0:01:21  0:04:09 2334k 786M   27  213M    0     0  2444k      0  0:05:29  0:01:29  0:04:00 2226kM   30  242M    0     0  2451k      0  0:05:28  0:01:41  0:03:47 2474k786M   35  279M    0     0  2440k      0  0:05:30  0:01:57  0:03:33 2577k86M   39  310M    0     0  2461k      0  0:05:27  0:02:09  0:03:18 2835kM   40  318M    0     0  2466k      0  0:05:26  0:02:12  0:03:14 2803k86M   43  339M    0     0  2481k      0  0:05:24  0:02:20  0:03:04 2943k6M   45  358M    0     0  2495k      0  0:05:22  0:02:27  0:02:55 2777k86M   53  420M    0     0  2528k      0  0:05:18  0:02:50  0:02:28 2562k4 2914k2648k 786M   56  446M    0     0  2535k      0  0:05:17  0:03:00  0:02:17 2440k786M   58  457M    0     0  2544k      0  0:05:16  0:03:04  0:02:12 2894kM   61  483M    0     0  2561k      0  0:05:14  0:03:13  0:02:01 2948k64  510M    0     0  2561k      0  0:05:14  0:03:24  0:01:50 2577kM   66  524M    0     0  2567k      0  0:05:13  0:03:29  0:01:44 2807kM   67  532M    0     0  2571k      0  0:05:13  0:03:32  0:01:41 2797k786M   77  606M    0     0  2553k      0  0:05:15  0:04:03  0:01:12 1779k    0     0  2558k      0  0:05:14  0:04:15  0:00:59 2647k86M   87  691M    0     0  2565k      0  0:05:14  0:04:36  0:00:38 2770k6M   88  699M    0     0  2565k      0  0:05:13  0:04:39  0:00:34 2775k 786M   94  740M    0     0  2568k      0  0:05:13  0:04:55  0:00:18 2650k5  786M   95  755M    0     0  2558k      0  0:05:14  0:05:02  0:00:12 2124k786M   97  767M    0     0  2542k      0  0:05:16  0:05:09  0:00:07 1965k786M   98  775M    0     0  2536k      0  0:05:17  0:05:13  0:00:04 2102k6M   98  777M    0     0  2533k      0  0:05:18  0:05:14  0:00:04 1944k\n"
     ]
    }
   ],
   "source": [
    "!curl -O https://download.microsoft.com/download/3/E/1/3E1C3F21-ECDB-4869-8368-6DEBA77B919F/kagglecatsanddogs_3367a.zip"
   ]
  },
  {
   "cell_type": "code",
   "execution_count": 6,
   "id": "8912551b-cb4a-44a9-9334-664ac0864295",
   "metadata": {},
   "outputs": [],
   "source": [
    "import tensorflow as tf\n",
    "from tensorflow import keras\n",
    "from tensorflow.keras import layers"
   ]
  },
  {
   "cell_type": "code",
   "execution_count": 7,
   "id": "ee9e4f7a-a959-4cc0-9895-b7df0368c3f4",
   "metadata": {},
   "outputs": [
    {
     "name": "stdout",
     "output_type": "stream",
     "text": [
      "Deleted 1590 images\n"
     ]
    }
   ],
   "source": [
    "import os\n",
    "\n",
    "num_skipped = 0\n",
    "for folder_name in (\"Cat\", \"Dog\"):\n",
    "    folder_path = os.path.join(\"PetImages\", folder_name)\n",
    "    for fname in os.listdir(folder_path):\n",
    "        fpath = os.path.join(folder_path, fname)\n",
    "        try:\n",
    "            fobj = open(fpath, \"rb\")\n",
    "            is_jfif = tf.compat.as_bytes(\"JFIF\") in fobj.peek(10)\n",
    "        finally:\n",
    "            fobj.close()\n",
    "\n",
    "        if not is_jfif:\n",
    "            num_skipped += 1\n",
    "            # Delete corrupted image\n",
    "            os.remove(fpath)\n",
    "\n",
    "print(\"Deleted %d images\" % num_skipped)\n"
   ]
  },
  {
   "cell_type": "code",
   "execution_count": 8,
   "id": "a614de2c-850c-4f4b-bd06-54438add087e",
   "metadata": {},
   "outputs": [
    {
     "name": "stdout",
     "output_type": "stream",
     "text": [
      "Found 23410 files belonging to 2 classes.\n",
      "Using 18728 files for training.\n"
     ]
    },
    {
     "name": "stderr",
     "output_type": "stream",
     "text": [
      "2022-04-08 17:00:46.786073: I tensorflow/core/platform/cpu_feature_guard.cc:151] This TensorFlow binary is optimized with oneAPI Deep Neural Network Library (oneDNN) to use the following CPU instructions in performance-critical operations:  AVX2 FMA\n",
      "To enable them in other operations, rebuild TensorFlow with the appropriate compiler flags.\n"
     ]
    },
    {
     "name": "stdout",
     "output_type": "stream",
     "text": [
      "Found 23410 files belonging to 2 classes.\n",
      "Using 4682 files for validation.\n"
     ]
    }
   ],
   "source": [
    "image_size = (180, 180)\n",
    "batch_size = 32\n",
    "\n",
    "train_ds = tf.keras.preprocessing.image_dataset_from_directory(\n",
    "    \"PetImages\",\n",
    "    validation_split=0.2,\n",
    "    subset=\"training\",\n",
    "    seed=1337,\n",
    "    image_size=image_size,\n",
    "    batch_size=batch_size,\n",
    ")\n",
    "val_ds = tf.keras.preprocessing.image_dataset_from_directory(\n",
    "    \"PetImages\",\n",
    "    validation_split=0.2,\n",
    "    subset=\"validation\",\n",
    "    seed=1337,\n",
    "    image_size=image_size,\n",
    "    batch_size=batch_size,\n",
    ")"
   ]
  },
  {
   "cell_type": "code",
   "execution_count": 9,
   "id": "6f25d799-a83c-41c4-842a-1db218c170c0",
   "metadata": {},
   "outputs": [
    {
     "name": "stdout",
     "output_type": "stream",
     "text": [
      "<class 'tensorflow.python.data.ops.dataset_ops.BatchDataset'>\n"
     ]
    }
   ],
   "source": [
    "print (type(train_ds))"
   ]
  },
  {
   "cell_type": "code",
   "execution_count": 10,
   "id": "515caae2-03b3-4c3f-9121-26601a1591a8",
   "metadata": {},
   "outputs": [
    {
     "data": {
      "text/plain": [
       "'/Users/punmehta/Downloads/Project/CNN/code'"
      ]
     },
     "execution_count": 10,
     "metadata": {},
     "output_type": "execute_result"
    }
   ],
   "source": [
    "%pwd"
   ]
  },
  {
   "cell_type": "code",
   "execution_count": null,
   "id": "8b5a3430-52af-416b-a7ed-ecc90b0b09ca",
   "metadata": {},
   "outputs": [],
   "source": []
  }
 ],
 "metadata": {
  "kernelspec": {
   "display_name": "Python 3 (ipykernel)",
   "language": "python",
   "name": "python3"
  },
  "language_info": {
   "codemirror_mode": {
    "name": "ipython",
    "version": 3
   },
   "file_extension": ".py",
   "mimetype": "text/x-python",
   "name": "python",
   "nbconvert_exporter": "python",
   "pygments_lexer": "ipython3",
   "version": "3.9.7"
  }
 },
 "nbformat": 4,
 "nbformat_minor": 5
}
