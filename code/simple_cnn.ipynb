{
 "cells": [
  {
   "cell_type": "code",
   "execution_count": 1,
   "id": "ff03d681-5f55-4dac-b024-47acc42cfb24",
   "metadata": {},
   "outputs": [],
   "source": [
    "'''\n",
    "import os\n",
    "import shutil\n",
    "import pandas as pd\n",
    "import cv2\n",
    "\n",
    "import tensorflow as tf\n",
    "from tensorflow import keras\n",
    "from tensorflow.keras import layers\n",
    "import numpy as np\n",
    "'''\n",
    "import matplotlib.pyplot as plt\n",
    "import seaborn as sns\n",
    "\n",
    "import keras\n",
    "from keras.models import Sequential\n",
    "from keras.layers import Dense, Conv2D , MaxPool2D , Flatten , Dropout \n",
    "from keras.preprocessing.image import ImageDataGenerator\n",
    "from tensorflow.keras.optimizers import Adam\n",
    "\n",
    "from sklearn.metrics import classification_report,confusion_matrix\n",
    "\n",
    "import tensorflow as tf\n",
    "\n",
    "import cv2\n",
    "import os\n",
    "\n",
    "import numpy as np"
   ]
  },
  {
   "cell_type": "code",
   "execution_count": 2,
   "id": "4f9ec571-70bb-4128-a509-7f4e6238c571",
   "metadata": {},
   "outputs": [],
   "source": [
    "labels = ['non_covid', 'covid']\n",
    "\n",
    "img_size = 224\n",
    "def get_data(data_dir):\n",
    "    data = [] \n",
    "    for label in labels: \n",
    "        path = os.path.join(data_dir, label)\n",
    "        class_num = labels.index(label)\n",
    "        for img in os.listdir(path):\n",
    "            try:\n",
    "                img_arr = cv2.imread(os.path.join(path, img))[...,::-1] #convert BGR to RGB format\n",
    "                resized_arr = cv2.resize(img_arr, (img_size, img_size)) # Reshaping images to preferred size\n",
    "                data.append([resized_arr, class_num])\n",
    "            except Exception as e:\n",
    "                print(e)\n",
    "    return np.array(data)"
   ]
  },
  {
   "cell_type": "code",
   "execution_count": 3,
   "id": "dc01474c-3286-4043-abab-38d868e9423e",
   "metadata": {},
   "outputs": [
    {
     "name": "stderr",
     "output_type": "stream",
     "text": [
      "/var/folders/wp/n601q0l53qx2yww21jgh15v00000gn/T/ipykernel_52667/1171864864.py:16: VisibleDeprecationWarning: Creating an ndarray from ragged nested sequences (which is a list-or-tuple of lists-or-tuples-or ndarrays with different lengths or shapes) is deprecated. If you meant to do this, you must specify 'dtype=object' when creating the ndarray.\n",
      "  return np.array(data)\n"
     ]
    }
   ],
   "source": [
    "data = get_data('../data_for_keras')"
   ]
  },
  {
   "cell_type": "code",
   "execution_count": 4,
   "id": "7fafbaf9-c487-4516-95cb-ddb1c9db3975",
   "metadata": {},
   "outputs": [
    {
     "name": "stdout",
     "output_type": "stream",
     "text": [
      "(929, 2)\n"
     ]
    }
   ],
   "source": [
    "print (data.shape)"
   ]
  },
  {
   "cell_type": "code",
   "execution_count": 5,
   "id": "80ac6b87-2e32-4f9a-bfca-1596f8609e64",
   "metadata": {},
   "outputs": [
    {
     "name": "stdout",
     "output_type": "stream",
     "text": [
      "(224, 224, 3)\n"
     ]
    }
   ],
   "source": [
    "print (data[0][0].shape)"
   ]
  },
  {
   "cell_type": "code",
   "execution_count": 6,
   "id": "b8e103b4-e030-44bf-8546-fd249c36686c",
   "metadata": {},
   "outputs": [],
   "source": [
    "from sklearn.model_selection import train_test_split\n",
    "train, val = train_test_split(data, test_size=0.2)"
   ]
  },
  {
   "cell_type": "code",
   "execution_count": 7,
   "id": "b70a999a-64d7-4ee9-a4c0-8807ce121ba3",
   "metadata": {},
   "outputs": [
    {
     "name": "stdout",
     "output_type": "stream",
     "text": [
      "(743, 2)\n",
      "(186, 2)\n"
     ]
    }
   ],
   "source": [
    "print (train.shape)\n",
    "print (val.shape)"
   ]
  },
  {
   "cell_type": "code",
   "execution_count": 8,
   "id": "dbfa5227-16b0-4372-8990-6fe2f62a60d1",
   "metadata": {},
   "outputs": [],
   "source": [
    "x_train = []\n",
    "y_train = []\n",
    "x_val = []\n",
    "y_val = []\n",
    "\n",
    "for feature, label in train:\n",
    "  x_train.append(feature)\n",
    "  y_train.append(label)\n",
    "\n",
    "for feature, label in val:\n",
    "  x_val.append(feature)\n",
    "  y_val.append(label)\n",
    "\n",
    "# Normalize the data\n",
    "x_train = np.array(x_train) / 255\n",
    "x_val = np.array(x_val) / 255\n",
    "\n",
    "x_train.reshape(-1, img_size, img_size, 1)\n",
    "y_train = np.array(y_train)\n",
    "\n",
    "x_val.reshape(-1, img_size, img_size, 1)\n",
    "y_val = np.array(y_val)"
   ]
  },
  {
   "cell_type": "code",
   "execution_count": 9,
   "id": "b314df3e-d323-4810-bb72-4e7d07364ea5",
   "metadata": {},
   "outputs": [],
   "source": [
    "datagen = ImageDataGenerator(\n",
    "        featurewise_center=False,  # set input mean to 0 over the dataset\n",
    "        samplewise_center=False,  # set each sample mean to 0\n",
    "        featurewise_std_normalization=False,  # divide inputs by std of the dataset\n",
    "        samplewise_std_normalization=False,  # divide each input by its std\n",
    "        zca_whitening=False,  # apply ZCA whitening\n",
    "        rotation_range = 30,  # randomly rotate images in the range (degrees, 0 to 180)\n",
    "        zoom_range = 0.2, # Randomly zoom image \n",
    "        width_shift_range=0.1,  # randomly shift images horizontally (fraction of total width)\n",
    "        height_shift_range=0.1,  # randomly shift images vertically (fraction of total height)\n",
    "        horizontal_flip = True,  # randomly flip images\n",
    "        vertical_flip=False)  # randomly flip images\n",
    "\n",
    "\n",
    "datagen.fit(x_train)"
   ]
  },
  {
   "cell_type": "code",
   "execution_count": 10,
   "id": "b0424f4e-40eb-4a6b-8978-bf9e649590f4",
   "metadata": {
    "tags": []
   },
   "outputs": [
    {
     "name": "stdout",
     "output_type": "stream",
     "text": [
      "Model: \"sequential\"\n",
      "_________________________________________________________________\n",
      " Layer (type)                Output Shape              Param #   \n",
      "=================================================================\n",
      " conv2d (Conv2D)             (None, 224, 224, 32)      896       \n",
      "                                                                 \n",
      " max_pooling2d (MaxPooling2D  (None, 112, 112, 32)     0         \n",
      " )                                                               \n",
      "                                                                 \n",
      " conv2d_1 (Conv2D)           (None, 112, 112, 32)      9248      \n",
      "                                                                 \n",
      " max_pooling2d_1 (MaxPooling  (None, 56, 56, 32)       0         \n",
      " 2D)                                                             \n",
      "                                                                 \n",
      " conv2d_2 (Conv2D)           (None, 56, 56, 64)        18496     \n",
      "                                                                 \n",
      " max_pooling2d_2 (MaxPooling  (None, 28, 28, 64)       0         \n",
      " 2D)                                                             \n",
      "                                                                 \n",
      " dropout (Dropout)           (None, 28, 28, 64)        0         \n",
      "                                                                 \n",
      " flatten (Flatten)           (None, 50176)             0         \n",
      "                                                                 \n",
      " dense (Dense)               (None, 128)               6422656   \n",
      "                                                                 \n",
      " dense_1 (Dense)             (None, 2)                 258       \n",
      "                                                                 \n",
      "=================================================================\n",
      "Total params: 6,451,554\n",
      "Trainable params: 6,451,554\n",
      "Non-trainable params: 0\n",
      "_________________________________________________________________\n"
     ]
    },
    {
     "name": "stderr",
     "output_type": "stream",
     "text": [
      "2022-04-12 00:10:24.198613: I tensorflow/core/platform/cpu_feature_guard.cc:151] This TensorFlow binary is optimized with oneAPI Deep Neural Network Library (oneDNN) to use the following CPU instructions in performance-critical operations:  AVX2 AVX512F FMA\n",
      "To enable them in other operations, rebuild TensorFlow with the appropriate compiler flags.\n"
     ]
    }
   ],
   "source": [
    "model = Sequential()\n",
    "model.add(Conv2D(32,3,padding=\"same\", activation=\"relu\", input_shape=(224,224,3)))\n",
    "model.add(MaxPool2D())\n",
    "\n",
    "model.add(Conv2D(32, 3, padding=\"same\", activation=\"relu\"))\n",
    "model.add(MaxPool2D())\n",
    "\n",
    "model.add(Conv2D(64, 3, padding=\"same\", activation=\"relu\"))\n",
    "model.add(MaxPool2D())\n",
    "model.add(Dropout(0.4))\n",
    "\n",
    "model.add(Flatten())\n",
    "model.add(Dense(128,activation=\"relu\"))\n",
    "model.add(Dense(2, activation=\"softmax\"))\n",
    "\n",
    "model.summary()"
   ]
  },
  {
   "cell_type": "code",
   "execution_count": 11,
   "id": "f6898f41-613d-4310-8fc1-222783f1883f",
   "metadata": {},
   "outputs": [
    {
     "name": "stderr",
     "output_type": "stream",
     "text": [
      "/Users/punmehta/anaconda3/lib/python3.9/site-packages/keras/optimizer_v2/adam.py:105: UserWarning: The `lr` argument is deprecated, use `learning_rate` instead.\n",
      "  super(Adam, self).__init__(name, **kwargs)\n"
     ]
    }
   ],
   "source": [
    "opt = Adam(lr=0.000001)\n",
    "model.compile(optimizer = opt , loss = tf.keras.losses.SparseCategoricalCrossentropy(from_logits=True) , metrics = ['accuracy'])"
   ]
  },
  {
   "cell_type": "code",
   "execution_count": 12,
   "id": "b67103a8-59f9-434d-ad55-b5435d1e3ef8",
   "metadata": {},
   "outputs": [
    {
     "name": "stdout",
     "output_type": "stream",
     "text": [
      "Epoch 1/50\n"
     ]
    },
    {
     "name": "stderr",
     "output_type": "stream",
     "text": [
      "/Users/punmehta/anaconda3/lib/python3.9/site-packages/tensorflow/python/util/dispatch.py:1096: UserWarning: \"`sparse_categorical_crossentropy` received `from_logits=True`, but the `output` argument was produced by a sigmoid or softmax activation and thus does not represent logits. Was this intended?\"\n",
      "  return dispatch_target(*args, **kwargs)\n"
     ]
    },
    {
     "name": "stdout",
     "output_type": "stream",
     "text": [
      "24/24 [==============================] - 14s 566ms/step - loss: 0.6723 - accuracy: 0.6070 - val_loss: 0.6746 - val_accuracy: 0.5806\n",
      "Epoch 2/50\n",
      "24/24 [==============================] - 14s 584ms/step - loss: 0.6708 - accuracy: 0.6110 - val_loss: 0.6739 - val_accuracy: 0.5806\n",
      "Epoch 3/50\n",
      "24/24 [==============================] - 14s 584ms/step - loss: 0.6673 - accuracy: 0.6124 - val_loss: 0.6729 - val_accuracy: 0.5806\n",
      "Epoch 4/50\n",
      "24/24 [==============================] - 14s 602ms/step - loss: 0.6648 - accuracy: 0.6110 - val_loss: 0.6721 - val_accuracy: 0.5806\n",
      "Epoch 5/50\n",
      "24/24 [==============================] - 14s 601ms/step - loss: 0.6686 - accuracy: 0.6110 - val_loss: 0.6714 - val_accuracy: 0.5806\n",
      "Epoch 6/50\n",
      "24/24 [==============================] - 14s 599ms/step - loss: 0.6674 - accuracy: 0.6124 - val_loss: 0.6702 - val_accuracy: 0.5806\n",
      "Epoch 7/50\n",
      "24/24 [==============================] - 18s 763ms/step - loss: 0.6631 - accuracy: 0.6124 - val_loss: 0.6695 - val_accuracy: 0.5806\n",
      "Epoch 8/50\n",
      "24/24 [==============================] - 18s 730ms/step - loss: 0.6601 - accuracy: 0.6124 - val_loss: 0.6687 - val_accuracy: 0.5806\n",
      "Epoch 9/50\n",
      "24/24 [==============================] - 17s 694ms/step - loss: 0.6617 - accuracy: 0.6110 - val_loss: 0.6679 - val_accuracy: 0.5806\n",
      "Epoch 10/50\n",
      "24/24 [==============================] - 17s 718ms/step - loss: 0.6606 - accuracy: 0.6124 - val_loss: 0.6673 - val_accuracy: 0.5806\n",
      "Epoch 11/50\n",
      "24/24 [==============================] - 17s 711ms/step - loss: 0.6594 - accuracy: 0.6137 - val_loss: 0.6664 - val_accuracy: 0.5806\n",
      "Epoch 12/50\n",
      "24/24 [==============================] - 17s 724ms/step - loss: 0.6605 - accuracy: 0.6164 - val_loss: 0.6655 - val_accuracy: 0.5806\n",
      "Epoch 13/50\n",
      "24/24 [==============================] - 18s 734ms/step - loss: 0.6617 - accuracy: 0.6110 - val_loss: 0.6652 - val_accuracy: 0.5806\n",
      "Epoch 14/50\n",
      "24/24 [==============================] - 18s 745ms/step - loss: 0.6560 - accuracy: 0.6110 - val_loss: 0.6639 - val_accuracy: 0.5806\n",
      "Epoch 15/50\n",
      "24/24 [==============================] - 19s 799ms/step - loss: 0.6591 - accuracy: 0.6110 - val_loss: 0.6631 - val_accuracy: 0.5806\n",
      "Epoch 16/50\n",
      "24/24 [==============================] - 19s 805ms/step - loss: 0.6535 - accuracy: 0.6124 - val_loss: 0.6622 - val_accuracy: 0.5806\n",
      "Epoch 17/50\n",
      "24/24 [==============================] - 17s 722ms/step - loss: 0.6560 - accuracy: 0.6151 - val_loss: 0.6619 - val_accuracy: 0.5806\n",
      "Epoch 18/50\n",
      "24/24 [==============================] - 19s 795ms/step - loss: 0.6547 - accuracy: 0.6164 - val_loss: 0.6614 - val_accuracy: 0.5806\n",
      "Epoch 19/50\n",
      "24/24 [==============================] - 20s 820ms/step - loss: 0.6563 - accuracy: 0.6137 - val_loss: 0.6602 - val_accuracy: 0.5806\n",
      "Epoch 20/50\n",
      "24/24 [==============================] - 19s 781ms/step - loss: 0.6516 - accuracy: 0.6178 - val_loss: 0.6597 - val_accuracy: 0.5806\n",
      "Epoch 21/50\n",
      "24/24 [==============================] - 20s 821ms/step - loss: 0.6568 - accuracy: 0.6124 - val_loss: 0.6593 - val_accuracy: 0.5806\n",
      "Epoch 22/50\n",
      "24/24 [==============================] - 21s 869ms/step - loss: 0.6499 - accuracy: 0.6151 - val_loss: 0.6582 - val_accuracy: 0.5806\n",
      "Epoch 23/50\n",
      "24/24 [==============================] - 18s 763ms/step - loss: 0.6496 - accuracy: 0.6164 - val_loss: 0.6578 - val_accuracy: 0.5806\n",
      "Epoch 24/50\n",
      "24/24 [==============================] - 21s 889ms/step - loss: 0.6499 - accuracy: 0.6137 - val_loss: 0.6567 - val_accuracy: 0.5860\n",
      "Epoch 25/50\n",
      "24/24 [==============================] - 21s 886ms/step - loss: 0.6494 - accuracy: 0.6151 - val_loss: 0.6562 - val_accuracy: 0.5806\n",
      "Epoch 26/50\n",
      "24/24 [==============================] - 21s 854ms/step - loss: 0.6489 - accuracy: 0.6191 - val_loss: 0.6553 - val_accuracy: 0.5860\n",
      "Epoch 27/50\n",
      "24/24 [==============================] - 20s 853ms/step - loss: 0.6467 - accuracy: 0.6164 - val_loss: 0.6544 - val_accuracy: 0.6022\n",
      "Epoch 28/50\n",
      "24/24 [==============================] - 20s 840ms/step - loss: 0.6446 - accuracy: 0.6124 - val_loss: 0.6536 - val_accuracy: 0.6022\n",
      "Epoch 29/50\n",
      "24/24 [==============================] - 19s 804ms/step - loss: 0.6482 - accuracy: 0.6231 - val_loss: 0.6528 - val_accuracy: 0.6022\n",
      "Epoch 30/50\n",
      "24/24 [==============================] - 20s 850ms/step - loss: 0.6489 - accuracy: 0.6272 - val_loss: 0.6521 - val_accuracy: 0.6022\n",
      "Epoch 31/50\n",
      "24/24 [==============================] - 22s 918ms/step - loss: 0.6514 - accuracy: 0.6164 - val_loss: 0.6513 - val_accuracy: 0.5968\n",
      "Epoch 32/50\n",
      "24/24 [==============================] - 19s 812ms/step - loss: 0.6448 - accuracy: 0.6231 - val_loss: 0.6513 - val_accuracy: 0.6022\n",
      "Epoch 33/50\n",
      "24/24 [==============================] - 21s 898ms/step - loss: 0.6425 - accuracy: 0.6299 - val_loss: 0.6497 - val_accuracy: 0.5968\n",
      "Epoch 34/50\n",
      "24/24 [==============================] - 20s 812ms/step - loss: 0.6402 - accuracy: 0.6312 - val_loss: 0.6490 - val_accuracy: 0.5968\n",
      "Epoch 35/50\n",
      "24/24 [==============================] - 21s 871ms/step - loss: 0.6402 - accuracy: 0.6326 - val_loss: 0.6483 - val_accuracy: 0.5968\n",
      "Epoch 36/50\n",
      "24/24 [==============================] - 19s 799ms/step - loss: 0.6399 - accuracy: 0.6420 - val_loss: 0.6476 - val_accuracy: 0.5968\n",
      "Epoch 37/50\n",
      "24/24 [==============================] - 19s 789ms/step - loss: 0.6369 - accuracy: 0.6299 - val_loss: 0.6470 - val_accuracy: 0.5968\n",
      "Epoch 38/50\n",
      "24/24 [==============================] - 21s 888ms/step - loss: 0.6404 - accuracy: 0.6272 - val_loss: 0.6464 - val_accuracy: 0.5968\n",
      "Epoch 39/50\n",
      "24/24 [==============================] - 19s 782ms/step - loss: 0.6366 - accuracy: 0.6339 - val_loss: 0.6460 - val_accuracy: 0.5968\n",
      "Epoch 40/50\n",
      "24/24 [==============================] - 20s 835ms/step - loss: 0.6398 - accuracy: 0.6299 - val_loss: 0.6452 - val_accuracy: 0.5968\n",
      "Epoch 41/50\n",
      "24/24 [==============================] - 21s 862ms/step - loss: 0.6360 - accuracy: 0.6339 - val_loss: 0.6446 - val_accuracy: 0.5968\n",
      "Epoch 42/50\n",
      "24/24 [==============================] - 18s 753ms/step - loss: 0.6364 - accuracy: 0.6353 - val_loss: 0.6437 - val_accuracy: 0.5914\n",
      "Epoch 43/50\n",
      "24/24 [==============================] - 23s 976ms/step - loss: 0.6349 - accuracy: 0.6420 - val_loss: 0.6429 - val_accuracy: 0.5968\n",
      "Epoch 44/50\n",
      "24/24 [==============================] - 20s 821ms/step - loss: 0.6333 - accuracy: 0.6366 - val_loss: 0.6423 - val_accuracy: 0.5968\n",
      "Epoch 45/50\n",
      "24/24 [==============================] - 18s 773ms/step - loss: 0.6374 - accuracy: 0.6339 - val_loss: 0.6416 - val_accuracy: 0.6075\n",
      "Epoch 46/50\n",
      "24/24 [==============================] - 22s 933ms/step - loss: 0.6327 - accuracy: 0.6487 - val_loss: 0.6413 - val_accuracy: 0.5968\n",
      "Epoch 47/50\n",
      "24/24 [==============================] - 19s 787ms/step - loss: 0.6362 - accuracy: 0.6433 - val_loss: 0.6401 - val_accuracy: 0.6075\n",
      "Epoch 48/50\n",
      "24/24 [==============================] - 19s 785ms/step - loss: 0.6300 - accuracy: 0.6487 - val_loss: 0.6395 - val_accuracy: 0.6075\n",
      "Epoch 49/50\n",
      "24/24 [==============================] - 23s 954ms/step - loss: 0.6321 - accuracy: 0.6568 - val_loss: 0.6389 - val_accuracy: 0.6183\n",
      "Epoch 50/50\n",
      "24/24 [==============================] - 19s 808ms/step - loss: 0.6312 - accuracy: 0.6447 - val_loss: 0.6385 - val_accuracy: 0.6022\n"
     ]
    }
   ],
   "source": [
    "epochs = 50\n",
    "history = model.fit(x_train, y_train, epochs=epochs, validation_data = (x_val, y_val))"
   ]
  },
  {
   "cell_type": "code",
   "execution_count": 13,
   "id": "4539168e-452e-4b01-86a4-c181a6f7b946",
   "metadata": {},
   "outputs": [
    {
     "data": {
      "image/png": "[encoded data removed]",
      "text/plain": [
       "<Figure size 1080x1080 with 2 Axes>"
      ]
     },
     "metadata": {
      "needs_background": "light"
     },
     "output_type": "display_data"
    }
   ],
   "source": [
    "acc = history.history['accuracy']\n",
    "val_acc = history.history['val_accuracy']\n",
    "loss = history.history['loss']\n",
    "val_loss = history.history['val_loss']\n",
    "\n",
    "epochs_range = range(epochs)\n",
    "\n",
    "plt.figure(figsize=(15, 15))\n",
    "plt.subplot(2, 2, 1)\n",
    "plt.plot(epochs_range, acc, label='Training Accuracy')\n",
    "plt.plot(epochs_range, val_acc, label='Validation Accuracy')\n",
    "plt.legend(loc='lower right')\n",
    "plt.title('Training and Validation Accuracy')\n",
    "\n",
    "plt.subplot(2, 2, 2)\n",
    "plt.plot(epochs_range, loss, label='Training Loss')\n",
    "plt.plot(epochs_range, val_loss, label='Validation Loss')\n",
    "plt.legend(loc='upper right')\n",
    "plt.title('Training and Validation Loss')\n",
    "plt.show()\n"
   ]
  },
  {
   "cell_type": "code",
   "execution_count": 14,
   "id": "9edea059-ae9a-48b1-a28b-002df40197cb",
   "metadata": {},
   "outputs": [
    {
     "name": "stdout",
     "output_type": "stream",
     "text": [
      "(186, 2)\n",
      "[0.5058044  0.49419558]\n",
      "(186,)\n",
      "0\n",
      "                     precision    recall  f1-score   support\n",
      "\n",
      "non_covid (Class 0)       0.62      0.13      0.21        78\n",
      "    covid (Class 1)       0.60      0.94      0.73       108\n",
      "\n",
      "           accuracy                           0.60       186\n",
      "          macro avg       0.61      0.54      0.47       186\n",
      "       weighted avg       0.61      0.60      0.52       186\n",
      "\n"
     ]
    }
   ],
   "source": [
    "predictions = model.predict(x_val)\n",
    "print (predictions.shape)\n",
    "print (predictions[0])\n",
    "#predictions = predictions.reshape(1,-1)[0]\n",
    "classes_x=np.argmax(predictions,axis=1)\n",
    "print (classes_x.shape)\n",
    "print (classes_x[0])\n",
    "print(classification_report(y_val, classes_x, target_names = ['non_covid (Class 0)','covid (Class 1)']))"
   ]
  },
  {
   "cell_type": "code",
   "execution_count": 15,
   "id": "3e9f9087-91ef-4832-9808-1a43305a0f97",
   "metadata": {},
   "outputs": [
    {
     "data": {
      "image/png": "[encoded data removed]",
      "text/plain": [
       "<Figure size 432x288 with 2 Axes>"
      ]
     },
     "metadata": {
      "needs_background": "light"
     },
     "output_type": "display_data"
    }
   ],
   "source": [
    "from sklearn.metrics import ConfusionMatrixDisplay\n",
    "from sklearn.metrics import confusion_matrix\n",
    "import matplotlib.pyplot as plt\n",
    "import numpy as np\n",
    "\n",
    "labels = [\"non_covid\", \"covid\"]\n",
    "\n",
    "cm = confusion_matrix(y_val, classes_x)\n",
    "\n",
    "disp = ConfusionMatrixDisplay(confusion_matrix=cm, display_labels=labels)\n",
    "\n",
    "disp.plot(cmap=plt.cm.Blues)\n",
    "plt.show()"
   ]
  },
  {
   "cell_type": "code",
   "execution_count": null,
   "id": "3bc1ac62-434d-4ff3-878d-48f2564ef3ac",
   "metadata": {},
   "outputs": [],
   "source": []
  }
 ],
 "metadata": {
  "kernelspec": {
   "display_name": "Python 3 (ipykernel)",
   "language": "python",
   "name": "python3"
  },
  "language_info": {
   "codemirror_mode": {
    "name": "ipython",
    "version": 3
   },
   "file_extension": ".py",
   "mimetype": "text/x-python",
   "name": "python",
   "nbconvert_exporter": "python",
   "pygments_lexer": "ipython3",
   "version": "3.9.7"
  }
 },
 "nbformat": 4,
 "nbformat_minor": 5
}
